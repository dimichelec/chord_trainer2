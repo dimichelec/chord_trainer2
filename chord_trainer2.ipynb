{
 "cells": [
  {
   "cell_type": "code",
   "execution_count": 7,
   "metadata": {},
   "outputs": [],
   "source": [
    "roots = ['C','C#','Db','D','D#','Eb','E','F','F#','Gb','G','G#','Ab','A','A#','Bb','B']\n",
    "chords = ['maj7','min7','dom7','min7b5']\n",
    "positions = ['root 1','root 2','root 3']\n"
   ]
  },
  {
   "cell_type": "code",
   "execution_count": 5,
   "metadata": {},
   "outputs": [
    {
     "name": "stdout",
     "output_type": "stream",
     "text": [
      "{'D': 610, 'Bb': 560, 'D#': 592, 'Db': 596, 'F#': 603, 'B': 534, 'C': 572, 'G': 606, 'C#': 557, 'Eb': 625, 'A': 585, 'Ab': 555, 'E': 573, 'Gb': 622, 'F': 611, 'G#': 588, 'A#': 611}\n"
     ]
    }
   ],
   "source": [
    "test = {}\n",
    "for i in range(10000):\n",
    "    root = roots[int(random.random()*len(roots))]\n",
    "    try:\n",
    "        test[root] += 1\n",
    "    except:\n",
    "        test[root] = 1\n",
    "\n",
    "print(test)\n"
   ]
  },
  {
   "cell_type": "code",
   "execution_count": 9,
   "metadata": {},
   "outputs": [
    {
     "name": "stdout",
     "output_type": "stream",
     "text": [
      "F#maj7 - root 3\n",
      "Bbmaj7 - root 1\n",
      "Gmaj7 - root 1\n",
      "Gmaj7 - root 2\n",
      "Dmaj7 - root 2\n",
      "Fmaj7 - root 2\n",
      "D#maj7 - root 1\n",
      "Bmaj7 - root 2\n",
      "Emaj7 - root 1\n",
      "Abmaj7 - root 1\n",
      "D#maj7 - root 3\n",
      "Dbmaj7 - root 3\n",
      "Bbmaj7 - root 3\n",
      "Bbmaj7 - root 1\n",
      "D#maj7 - root 2\n",
      "Gbmaj7 - root 3\n"
     ]
    },
    {
     "ename": "KeyboardInterrupt",
     "evalue": "",
     "output_type": "error",
     "traceback": [
      "\u001b[1;31m---------------------------------------------------------------------------\u001b[0m",
      "\u001b[1;31mKeyboardInterrupt\u001b[0m                         Traceback (most recent call last)",
      "\u001b[1;32m<ipython-input-9-22cdb0a312e8>\u001b[0m in \u001b[0;36m<module>\u001b[1;34m\u001b[0m\n\u001b[0;32m     11\u001b[0m     \u001b[0mposition\u001b[0m \u001b[1;33m=\u001b[0m \u001b[0mpositions\u001b[0m\u001b[1;33m[\u001b[0m\u001b[0mint\u001b[0m\u001b[1;33m(\u001b[0m\u001b[0mrandom\u001b[0m\u001b[1;33m.\u001b[0m\u001b[0mrandom\u001b[0m\u001b[1;33m(\u001b[0m\u001b[1;33m)\u001b[0m\u001b[1;33m*\u001b[0m\u001b[0mlen\u001b[0m\u001b[1;33m(\u001b[0m\u001b[0mpositions\u001b[0m\u001b[1;33m)\u001b[0m\u001b[1;33m)\u001b[0m\u001b[1;33m]\u001b[0m\u001b[1;33m\u001b[0m\u001b[1;33m\u001b[0m\u001b[0m\n\u001b[0;32m     12\u001b[0m     \u001b[0mprint\u001b[0m\u001b[1;33m(\u001b[0m\u001b[1;34mf'{root}{chord} - {position}'\u001b[0m\u001b[1;33m)\u001b[0m\u001b[1;33m\u001b[0m\u001b[1;33m\u001b[0m\u001b[0m\n\u001b[1;32m---> 13\u001b[1;33m     \u001b[0mtime\u001b[0m\u001b[1;33m.\u001b[0m\u001b[0msleep\u001b[0m\u001b[1;33m(\u001b[0m\u001b[1;36m60.\u001b[0m\u001b[1;33m/\u001b[0m\u001b[1;33m(\u001b[0m\u001b[0mtempo\u001b[0m\u001b[1;33m/\u001b[0m\u001b[1;36m4.\u001b[0m\u001b[1;33m)\u001b[0m\u001b[1;33m)\u001b[0m\u001b[1;33m\u001b[0m\u001b[1;33m\u001b[0m\u001b[0m\n\u001b[0m",
      "\u001b[1;31mKeyboardInterrupt\u001b[0m: "
     ]
    }
   ],
   "source": [
    "import random\n",
    "import time\n",
    "\n",
    "tempo = 30\n",
    "\n",
    "chords = ['maj7']\n",
    "\n",
    "while True:\n",
    "    root = roots[int(random.random()*len(roots))]\n",
    "    chord = chords[int(random.random()*len(chords))]\n",
    "    position = positions[int(random.random()*len(positions))]\n",
    "    print(f'{root}{chord} - {position}')\n",
    "    time.sleep(60./(tempo/4.))\n"
   ]
  }
 ],
 "metadata": {
  "interpreter": {
   "hash": "8ee45b0ad8439e2475481d2e61d73b851dacb9ded551ce0f132f12806da6c4dd"
  },
  "kernelspec": {
   "display_name": "Python 3.8.3 ('base')",
   "language": "python",
   "name": "python3"
  },
  "language_info": {
   "codemirror_mode": {
    "name": "ipython",
    "version": 3
   },
   "file_extension": ".py",
   "mimetype": "text/x-python",
   "name": "python",
   "nbconvert_exporter": "python",
   "pygments_lexer": "ipython3",
   "version": "3.8.3"
  },
  "orig_nbformat": 4
 },
 "nbformat": 4,
 "nbformat_minor": 2
}
