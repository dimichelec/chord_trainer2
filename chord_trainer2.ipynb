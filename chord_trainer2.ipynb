{
 "cells": [
  {
   "cell_type": "code",
   "execution_count": 2,
   "metadata": {},
   "outputs": [],
   "source": [
    "import random\n",
    "\n",
    "roots = ['C','C#','Db','D','D#','Eb','E','F','F#','Gb','G','G#','Ab','A','A#','Bb','B']\n",
    "chords = ['maj7','min7','dom7','min7b5']\n",
    "positions = ['root 1','root 2','root 3']\n"
   ]
  },
  {
   "cell_type": "code",
   "execution_count": 3,
   "metadata": {},
   "outputs": [
    {
     "name": "stdout",
     "output_type": "stream",
     "text": [
      "{'C#': 572, 'C': 572, 'Ab': 581, 'G': 542, 'A#': 633, 'Db': 592, 'Gb': 575, 'D': 609, 'Eb': 601, 'F#': 539, 'D#': 621, 'B': 565, 'E': 554, 'G#': 583, 'Bb': 635, 'A': 601, 'F': 625}\n"
     ]
    }
   ],
   "source": [
    "test = {}\n",
    "for i in range(10000):\n",
    "    root = roots[int(random.random()*len(roots))]\n",
    "    try:\n",
    "        test[root] += 1\n",
    "    except:\n",
    "        test[root] = 1\n",
    "\n",
    "print(test)\n"
   ]
  },
  {
   "cell_type": "code",
   "execution_count": 5,
   "metadata": {},
   "outputs": [
    {
     "name": "stdout",
     "output_type": "stream",
     "text": [
      "Abmaj7 - root 1\n",
      "    ___    __                      _ _____                             __ \n",
      "   /   |  / /_  ____ ___  ____ _  (_)__  /           _________  ____  / /_\n",
      "  / /| | / __ \\/ __ `__ \\/ __ `/ / /  / /  ______   / ___/ __ \\/ __ \\/ __/\n",
      " / ___ |/ /_/ / / / / / / /_/ / / /  / /  /_____/  / /  / /_/ / /_/ / /_  \n",
      "/_/  |_/_.___/_/ /_/ /_/\\__,_/_/ /  /_/           /_/   \\____/\\____/\\__/  \n",
      "                            /___/                                         \n",
      "   ___\n",
      "  <  /\n",
      "  / / \n",
      " / /  \n",
      "/_/   \n",
      "      \n",
      "\n"
     ]
    },
    {
     "ename": "KeyboardInterrupt",
     "evalue": "",
     "output_type": "error",
     "traceback": [
      "\u001b[1;31m---------------------------------------------------------------------------\u001b[0m",
      "\u001b[1;31mKeyboardInterrupt\u001b[0m                         Traceback (most recent call last)",
      "\u001b[1;32m<ipython-input-5-57631a5ecd57>\u001b[0m in \u001b[0;36m<module>\u001b[1;34m\u001b[0m\n\u001b[0;32m     13\u001b[0m     \u001b[0mfig\u001b[0m \u001b[1;33m=\u001b[0m \u001b[0mpyfiglet\u001b[0m\u001b[1;33m.\u001b[0m\u001b[0mfiglet_format\u001b[0m\u001b[1;33m(\u001b[0m\u001b[1;34mf'{root}{chord} - {position}'\u001b[0m\u001b[1;33m,\u001b[0m \u001b[0mfont\u001b[0m\u001b[1;33m=\u001b[0m\u001b[1;34m'slant'\u001b[0m\u001b[1;33m)\u001b[0m\u001b[1;33m\u001b[0m\u001b[1;33m\u001b[0m\u001b[0m\n\u001b[0;32m     14\u001b[0m     \u001b[0mprint\u001b[0m\u001b[1;33m(\u001b[0m\u001b[0mfig\u001b[0m\u001b[1;33m)\u001b[0m\u001b[1;33m\u001b[0m\u001b[1;33m\u001b[0m\u001b[0m\n\u001b[1;32m---> 15\u001b[1;33m     \u001b[0mtime\u001b[0m\u001b[1;33m.\u001b[0m\u001b[0msleep\u001b[0m\u001b[1;33m(\u001b[0m\u001b[1;36m60.\u001b[0m\u001b[1;33m/\u001b[0m\u001b[1;33m(\u001b[0m\u001b[0mtempo\u001b[0m\u001b[1;33m/\u001b[0m\u001b[1;36m4.\u001b[0m\u001b[1;33m)\u001b[0m\u001b[1;33m)\u001b[0m\u001b[1;33m\u001b[0m\u001b[1;33m\u001b[0m\u001b[0m\n\u001b[0m",
      "\u001b[1;31mKeyboardInterrupt\u001b[0m: "
     ]
    }
   ],
   "source": [
    "import pyfiglet\n",
    "import time\n",
    "\n",
    "tempo = 30\n",
    "\n",
    "chords = ['maj7']\n",
    "\n",
    "while True:\n",
    "    root = roots[int(random.random()*len(roots))]\n",
    "    chord = chords[int(random.random()*len(chords))]\n",
    "    position = positions[int(random.random()*len(positions))]\n",
    "    print(f'{root}{chord} - {position}')\n",
    "    fig = pyfiglet.figlet_format(f'{root}{chord} - {position}', font='slant')\n",
    "    print(fig)\n",
    "    time.sleep(60./(tempo/4.))\n"
   ]
  }
 ],
 "metadata": {
  "interpreter": {
   "hash": "81794d4967e6c3204c66dcd87b604927b115b27c00565d3d43f05ba2f3a2cb0d"
  },
  "kernelspec": {
   "display_name": "Python 3.9.2 64-bit",
   "language": "python",
   "name": "python3"
  },
  "language_info": {
   "codemirror_mode": {
    "name": "ipython",
    "version": 3
   },
   "file_extension": ".py",
   "mimetype": "text/x-python",
   "name": "python",
   "nbconvert_exporter": "python",
   "pygments_lexer": "ipython3",
   "version": "3.9.2"
  },
  "orig_nbformat": 4
 },
 "nbformat": 4,
 "nbformat_minor": 2
}
